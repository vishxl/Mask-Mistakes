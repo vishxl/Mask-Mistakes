{
  "nbformat": 4,
  "nbformat_minor": 0,
  "metadata": {
    "colab": {
      "name": "MaskMistakesYOLOv4.ipynb",
      "provenance": [],
      "collapsed_sections": [],
      "include_colab_link": true
    },
    "kernelspec": {
      "name": "python3",
      "display_name": "Python 3"
    },
    "accelerator": "GPU"
  },
  "cells": [
    {
      "cell_type": "markdown",
      "metadata": {
        "id": "view-in-github",
        "colab_type": "text"
      },
      "source": [
        "<a href=\"https://colab.research.google.com/github/vishxl/Mask-Mistakes/blob/master/MaskMistakesYOLOv4.ipynb\" target=\"_parent\"><img src=\"https://colab.research.google.com/assets/colab-badge.svg\" alt=\"Open In Colab\"/></a>"
      ]
    },
    {
      "cell_type": "markdown",
      "metadata": {
        "id": "wHBQcQzjD6HJ",
        "colab_type": "text"
      },
      "source": [
        "**Connect google drive**"
      ]
    },
    {
      "cell_type": "code",
      "metadata": {
        "id": "Ap11LweE_fj6",
        "colab_type": "code",
        "colab": {
          "base_uri": "https://localhost:8080/",
          "height": 708
        },
        "outputId": "4f86319c-062b-4be8-be64-d48d591854ac"
      },
      "source": [
        "!apt update\n",
        "#!apt upgrade -y\n",
        "!uname -m && cat /etc/*release\n",
        "!gcc --version\n",
        "!uname -r"
      ],
      "execution_count": null,
      "outputs": [
        {
          "output_type": "stream",
          "text": [
            "\u001b[33m\r0% [Working]\u001b[0m\r            \rHit:1 http://security.ubuntu.com/ubuntu bionic-security InRelease\n",
            "\u001b[33m\r0% [Connecting to archive.ubuntu.com (91.189.88.152)] [Connected to cloud.r-pro\u001b[0m\u001b[33m\r0% [1 InRelease gpgv 88.7 kB] [Connecting to archive.ubuntu.com (91.189.88.152)\u001b[0m\r                                                                               \rHit:2 https://cloud.r-project.org/bin/linux/ubuntu bionic-cran35/ InRelease\n",
            "Ign:3 https://developer.download.nvidia.com/compute/cuda/repos/ubuntu1804/x86_64  InRelease\n",
            "Ign:4 https://developer.download.nvidia.com/compute/machine-learning/repos/ubuntu1804/x86_64  InRelease\n",
            "Hit:5 https://developer.download.nvidia.com/compute/cuda/repos/ubuntu1804/x86_64  Release\n",
            "Hit:6 https://developer.download.nvidia.com/compute/machine-learning/repos/ubuntu1804/x86_64  Release\n",
            "Hit:7 http://ppa.launchpad.net/graphics-drivers/ppa/ubuntu bionic InRelease\n",
            "Hit:8 http://archive.ubuntu.com/ubuntu bionic InRelease\n",
            "Hit:9 http://archive.ubuntu.com/ubuntu bionic-updates InRelease\n",
            "Hit:10 http://ppa.launchpad.net/marutter/c2d4u3.5/ubuntu bionic InRelease\n",
            "Hit:11 http://archive.ubuntu.com/ubuntu bionic-backports InRelease\n",
            "Reading package lists... Done\n",
            "Building dependency tree       \n",
            "Reading state information... Done\n",
            "77 packages can be upgraded. Run 'apt list --upgradable' to see them.\n",
            "x86_64\n",
            "DISTRIB_ID=Ubuntu\n",
            "DISTRIB_RELEASE=18.04\n",
            "DISTRIB_CODENAME=bionic\n",
            "DISTRIB_DESCRIPTION=\"Ubuntu 18.04.3 LTS\"\n",
            "NAME=\"Ubuntu\"\n",
            "VERSION=\"18.04.3 LTS (Bionic Beaver)\"\n",
            "ID=ubuntu\n",
            "ID_LIKE=debian\n",
            "PRETTY_NAME=\"Ubuntu 18.04.3 LTS\"\n",
            "VERSION_ID=\"18.04\"\n",
            "HOME_URL=\"https://www.ubuntu.com/\"\n",
            "SUPPORT_URL=\"https://help.ubuntu.com/\"\n",
            "BUG_REPORT_URL=\"https://bugs.launchpad.net/ubuntu/\"\n",
            "PRIVACY_POLICY_URL=\"https://www.ubuntu.com/legal/terms-and-policies/privacy-policy\"\n",
            "VERSION_CODENAME=bionic\n",
            "UBUNTU_CODENAME=bionic\n",
            "gcc (Ubuntu 7.5.0-3ubuntu1~18.04) 7.5.0\n",
            "Copyright (C) 2017 Free Software Foundation, Inc.\n",
            "This is free software; see the source for copying conditions.  There is NO\n",
            "warranty; not even for MERCHANTABILITY or FITNESS FOR A PARTICULAR PURPOSE.\n",
            "\n",
            "4.19.112+\n"
          ],
          "name": "stdout"
        }
      ]
    },
    {
      "cell_type": "code",
      "metadata": {
        "id": "bwp6NIrsZZFP",
        "colab_type": "code",
        "colab": {
          "base_uri": "https://localhost:8080/",
          "height": 381
        },
        "outputId": "3b1f43e6-9232-49e8-90ff-a6ed40a3c3aa"
      },
      "source": [
        "# Check if NVIDIA GPU is enabled\n",
        "!nvidia-smi"
      ],
      "execution_count": null,
      "outputs": [
        {
          "output_type": "stream",
          "text": [
            "Thu Sep 10 17:17:44 2020       \n",
            "+-----------------------------------------------------------------------------+\n",
            "| NVIDIA-SMI 450.66       Driver Version: 418.67       CUDA Version: 10.1     |\n",
            "|-------------------------------+----------------------+----------------------+\n",
            "| GPU  Name        Persistence-M| Bus-Id        Disp.A | Volatile Uncorr. ECC |\n",
            "| Fan  Temp  Perf  Pwr:Usage/Cap|         Memory-Usage | GPU-Util  Compute M. |\n",
            "|                               |                      |               MIG M. |\n",
            "|===============================+======================+======================|\n",
            "|   0  Tesla P4            Off  | 00000000:00:04.0 Off |                    0 |\n",
            "| N/A   37C    P8     7W /  75W |      0MiB /  7611MiB |      0%      Default |\n",
            "|                               |                      |                 ERR! |\n",
            "+-------------------------------+----------------------+----------------------+\n",
            "                                                                               \n",
            "+-----------------------------------------------------------------------------+\n",
            "| Processes:                                                                  |\n",
            "|  GPU   GI   CI        PID   Type   Process name                  GPU Memory |\n",
            "|        ID   ID                                                   Usage      |\n",
            "|=============================================================================|\n",
            "|  No running processes found                                                 |\n",
            "+-----------------------------------------------------------------------------+\n"
          ],
          "name": "stdout"
        }
      ]
    },
    {
      "cell_type": "code",
      "metadata": {
        "id": "9e9ZW3sqMEPO",
        "colab_type": "code",
        "colab": {}
      },
      "source": [
        "from google.colab import drive\n",
        "drive.mount('/content/gdrive')\n",
        "!ln -s /content/gdrive/My\\ Drive/ /mydrive\n",
        "!ls /mydrive"
      ],
      "execution_count": null,
      "outputs": []
    },
    {
      "cell_type": "markdown",
      "metadata": {
        "id": "t7utW4in4azV",
        "colab_type": "text"
      },
      "source": [
        "**1) Clone, configure & compile Darknet**\n",
        "\n"
      ]
    },
    {
      "cell_type": "code",
      "metadata": {
        "id": "e03U7Zi-qMr2",
        "colab_type": "code",
        "colab": {}
      },
      "source": [
        "# Clone\n",
        "!git clone https://github.com/AlexeyAB/darknet/\n",
        "%cd darknet/"
      ],
      "execution_count": null,
      "outputs": []
    },
    {
      "cell_type": "code",
      "metadata": {
        "id": "eTp_yRVS_4aD",
        "colab_type": "code",
        "colab": {}
      },
      "source": [
        "!apt install libopencv-dev python-opencv ffmpeg"
      ],
      "execution_count": null,
      "outputs": []
    },
    {
      "cell_type": "code",
      "metadata": {
        "id": "7hzfEWSuONhz",
        "colab_type": "code",
        "colab": {}
      },
      "source": [
        "# Configure\n",
        "!sed -i 's/OPENCV=0/OPENCV=1/g' Makefile\n",
        "!sed -i 's/GPU=0/GPU=1/g' Makefile\n",
        "!sed -i 's/CUDNN_HALF=0/CUDNN_HALF=1/g' Makefile\n",
        "!sed -i 's/CUDNN=0/CUDNN=1/g' Makefile"
      ],
      "execution_count": null,
      "outputs": []
    },
    {
      "cell_type": "code",
      "metadata": {
        "id": "EBBokOq5OOA5",
        "colab_type": "code",
        "colab": {}
      },
      "source": [
        "# Compile\n",
        "!make"
      ],
      "execution_count": null,
      "outputs": []
    },
    {
      "cell_type": "markdown",
      "metadata": {
        "id": "gAOLtA_qI9vF",
        "colab_type": "text"
      },
      "source": [
        "**2) Configure yolov4.cfg file**"
      ]
    },
    {
      "cell_type": "code",
      "metadata": {
        "id": "s-RpscgU853t",
        "colab_type": "code",
        "colab": {}
      },
      "source": [
        "# Make a copy of yolov4.cfg\n",
        "!cp cfg/yolov4.cfg cfg/yolov4_training.cfg\n",
        "\n",
        "#Download yolov4.weights file\n",
        "%cp '../drive/My Drive/Colab Notebooks/Darknet/yolov4.weights' ."
      ],
      "execution_count": null,
      "outputs": []
    },
    {
      "cell_type": "code",
      "metadata": {
        "id": "5ZgVQRop_vwR",
        "colab_type": "code",
        "colab": {}
      },
      "source": [
        "# Change lines in yolov4.cfg file\n",
        "!sed -i 's/batch=1/batch=64/' cfg/yolov4_training.cfg\n",
        "!sed -i 's/subdivisions=1/subdivisions=16/' cfg/yolov4_training.cfg\n",
        "!sed -i 's/max_batches = 500200/max_batches = 6000/' cfg/yolov4_training.cfg\n",
        "!sed -i '610 s@classes=80@classes=3@' cfg/yolov4_training.cfg\n",
        "!sed -i '696 s@classes=80@classes=3@' cfg/yolov4_training.cfg\n",
        "!sed -i '783 s@classes=80@classes=3@' cfg/yolov4_training.cfg\n",
        "!sed -i '603 s@filters=255@filters=24@' cfg/yolov4_training.cfg\n",
        "!sed -i '689 s@filters=255@filters=24@' cfg/yolov4_training.cfg\n",
        "!sed -i '776 s@filters=255@filters=24@' cfg/yolov4_training.cfg"
      ],
      "execution_count": null,
      "outputs": []
    },
    {
      "cell_type": "markdown",
      "metadata": {
        "id": "88p9BIjkPTRv",
        "colab_type": "text"
      },
      "source": [
        "**3) Create .names and .data files**"
      ]
    },
    {
      "cell_type": "code",
      "metadata": {
        "id": "7AIBw_psIclz",
        "colab_type": "code",
        "colab": {}
      },
      "source": [
        "!echo -e 'Wearing Mask\\n2nd item\\n3rd item' > data/obj.names\n",
        "!echo -e 'classes= 3\\ntrain  = data/train.txt\\nvalid  = data/test.txt\\nnames = data/obj.names\\nbackup = /mydrive/yolov4' > data/obj.data"
      ],
      "execution_count": null,
      "outputs": []
    },
    {
      "cell_type": "markdown",
      "metadata": {
        "id": "dqFFqbUJMtN-",
        "colab_type": "text"
      },
      "source": [
        "**4) Save yolov4_training.cfg and obj.names files in Google drive**"
      ]
    },
    {
      "cell_type": "code",
      "metadata": {
        "id": "67o96gV7L0Uv",
        "colab_type": "code",
        "colab": {}
      },
      "source": [
        "!cp cfg/yolov4_training.cfg /mydrive/yolov4/yolov4_testing.cfg\n",
        "!cp data/obj.names /mydrive/yolov4/classes.txt"
      ],
      "execution_count": null,
      "outputs": []
    },
    {
      "cell_type": "markdown",
      "metadata": {
        "id": "9RbVKJjoncW2",
        "colab_type": "text"
      },
      "source": [
        "**5) Create a folder and unzip image dataset**"
      ]
    },
    {
      "cell_type": "code",
      "metadata": {
        "id": "eZlkzFMW7I_N",
        "colab_type": "code",
        "colab": {}
      },
      "source": [
        "!mkdir data/obj\n",
        "!unzip /mydrive/yolov4/images.zip -d data/obj"
      ],
      "execution_count": null,
      "outputs": []
    },
    {
      "cell_type": "markdown",
      "metadata": {
        "id": "ogBdNwRaZ50U",
        "colab_type": "text"
      },
      "source": [
        "**6) Create train.txt file**"
      ]
    },
    {
      "cell_type": "code",
      "metadata": {
        "id": "DGUyXxeYX0IP",
        "colab_type": "code",
        "colab": {}
      },
      "source": [
        "import glob\n",
        "images_list = glob.glob(\"data/obj/*.jpg\")\n",
        "with open(\"data/train.txt\", \"w\") as f:\n",
        "    f.write(\"\\n\".join(images_list))"
      ],
      "execution_count": null,
      "outputs": []
    },
    {
      "cell_type": "markdown",
      "metadata": {
        "id": "084L-LLPqxQe",
        "colab_type": "text"
      },
      "source": [
        "**7) Download pre-trained weights for the convolutional layers file**"
      ]
    },
    {
      "cell_type": "code",
      "metadata": {
        "id": "jhb5nZvsQ_96",
        "colab_type": "code",
        "colab": {}
      },
      "source": [
        "!wget https://pjreddie.com/media/files/darknet53.conv.74"
      ],
      "execution_count": null,
      "outputs": []
    },
    {
      "cell_type": "markdown",
      "metadata": {
        "id": "CeSiuLrXoAjc",
        "colab_type": "text"
      },
      "source": [
        "**8) Start training**"
      ]
    },
    {
      "cell_type": "code",
      "metadata": {
        "id": "S3_g3jclUzMm",
        "colab_type": "code",
        "colab": {}
      },
      "source": [
        "!./darknet detector train data/obj.data cfg/yolov4_training.cfg darknet53.conv.74 -dont_show\n",
        "!./darknet detector train data/obj.data cfg/yolov4_training.cfg /mydrive/yolov4/yolov4_training_last.weights -dont_show"
      ],
      "execution_count": null,
      "outputs": []
    }
  ]
}